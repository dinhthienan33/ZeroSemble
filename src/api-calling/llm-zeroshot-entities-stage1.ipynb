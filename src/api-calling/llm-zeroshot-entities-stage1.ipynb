{
 "cells": [
  {
   "cell_type": "code",
   "execution_count": 1,
   "id": "737743e4",
   "metadata": {
    "execution": {
     "iopub.execute_input": "2025-04-10T15:43:30.348478Z",
     "iopub.status.busy": "2025-04-10T15:43:30.348235Z",
     "iopub.status.idle": "2025-04-10T15:43:35.316503Z",
     "shell.execute_reply": "2025-04-10T15:43:35.315525Z"
    },
    "papermill": {
     "duration": 4.972952,
     "end_time": "2025-04-10T15:43:35.318186",
     "exception": false,
     "start_time": "2025-04-10T15:43:30.345234",
     "status": "completed"
    },
    "tags": []
   },
   "outputs": [],
   "source": [
    "!pip install torch>=1.9.0 numpy>=1.20.0 groq>=0.11.0 transformers>=4.30.0 python-dotenv>=1.0.0 tqdm>=4.65.0 pydantic>=2.0.0 -q\n"
   ]
  },
  {
   "cell_type": "code",
   "execution_count": 2,
   "id": "1b090f1c",
   "metadata": {
    "execution": {
     "iopub.execute_input": "2025-04-10T15:43:35.323006Z",
     "iopub.status.busy": "2025-04-10T15:43:35.322738Z",
     "iopub.status.idle": "2025-04-10T15:43:35.326355Z",
     "shell.execute_reply": "2025-04-10T15:43:35.325576Z"
    },
    "papermill": {
     "duration": 0.007179,
     "end_time": "2025-04-10T15:43:35.327597",
     "exception": false,
     "start_time": "2025-04-10T15:43:35.320418",
     "status": "completed"
    },
    "tags": []
   },
   "outputs": [],
   "source": [
    "import sys\n",
    "sys.argv = sys.argv[:1]  # Loại bỏ đối số '-f' của Jupyter"
   ]
  },
  {
   "cell_type": "code",
   "execution_count": 3,
   "id": "00661937",
   "metadata": {
    "execution": {
     "iopub.execute_input": "2025-04-10T15:43:35.331722Z",
     "iopub.status.busy": "2025-04-10T15:43:35.331473Z",
     "iopub.status.idle": "2025-04-10T15:43:36.085002Z",
     "shell.execute_reply": "2025-04-10T15:43:36.084311Z"
    },
    "papermill": {
     "duration": 0.757141,
     "end_time": "2025-04-10T15:43:36.086364",
     "exception": false,
     "start_time": "2025-04-10T15:43:35.329223",
     "status": "completed"
    },
    "tags": []
   },
   "outputs": [],
   "source": [
    "import os\n",
    "import json\n",
    "import time\n",
    "import random\n",
    "from itertools import cycle\n",
    "from groq import Groq  # Only keeping this import\n",
    "\n",
    "def query_groq_api(data_test_path, result_path, list_of_api_keys, model=\"meta-llama/llama-4-maverick-17b-128e-instruct\"):\n",
    "    k=0\n",
    "    # Load test data\n",
    "    with open(data_test_path, \"r\", encoding=\"utf-8\") as file:\n",
    "        data_test = json.load(file)\n",
    "    print(\"Lenght of data test\",len(data_test))\n",
    "    api_keys = cycle(list_of_api_keys)  # Rotate API keys\n",
    "    API_KEY = next(api_keys)  # Start with the first key\n",
    "    client = Groq(api_key=API_KEY)\n",
    "\n",
    "    results = {}\n",
    "\n",
    "    for i, sample in enumerate(data_test[k:]):\n",
    "        prompt = f\"\"\"\n",
    "        You are an advanced information extraction model specializing in Named Entity Recognition (NER) and Relation Extraction (RE). \n",
    "        Your specific domain is {sample['domain']}.\n",
    "        Extract named entities and relationships from the given document. \n",
    "        Return only the extracted JSON output without any extra text.\n",
    "        Extract relevant named entities and their relationships based on predefined NER and RE labels.\n",
    "        Find all entities that you can find.\n",
    "\n",
    "        ### Input:\n",
    "        {json.dumps(sample, ensure_ascii=False)}\n",
    "\n",
    "        ### Output Format:\n",
    "        {{\n",
    "            \"{sample['id']}\": {{\n",
    "                \"title\": \"{sample['title']}\",\n",
    "                \"entities\": [\n",
    "                    {{\n",
    "                        \"mentions\": [\"<Entity Text>\"],\n",
    "                        \"type\": \"<NER Label>\"\n",
    "                    }}\n",
    "                ]\n",
    "            }}\n",
    "        }}\n",
    "        \"\"\"\n",
    "        success =False\n",
    "        while not success:\n",
    "            try:\n",
    "                chat_completion = client.chat.completions.create(\n",
    "                    messages=[{\"role\": \"user\", \"content\": prompt}],\n",
    "                    model=model,\n",
    "                    response_format={\"type\": \"json_object\"},\n",
    "                )\n",
    "                print(f\"Processing sample {i+k} with API key {API_KEY}\")\n",
    "                extracted_json = json.loads(chat_completion.choices[0].message.content)\n",
    "    \n",
    "                # Save results **only if** API call is successful\n",
    "                results.update(extracted_json)\n",
    "                success = True\n",
    "                with open(result_path, \"w\", encoding=\"utf-8\") as file:\n",
    "                    json.dump(results, file, indent=4, ensure_ascii=False)\n",
    "                print(f\"Results updated and saved to {result_path} after processing sample {i+k}\")\n",
    "                break  # Move to next sample if success\n",
    "    \n",
    "            except Exception as e:\n",
    "                error_message = str(e)\n",
    "    \n",
    "                # Handling invalid API key errors\n",
    "                if \"401\" in error_message or \"invalid API key\" in error_message.lower():\n",
    "                    print(f\"Invalid API key detected: {API_KEY}. Switching to the next API key...\")\n",
    "                    API_KEY = next(api_keys)\n",
    "                    client = Groq(api_key=API_KEY)\n",
    "    \n",
    "                # Handling rate limit errors\n",
    "                elif \"429\" in error_message or \"rate limit\" in error_message.lower():\n",
    "                    wait_time = 10 + random.uniform(0, 2)  # Slight randomization\n",
    "                    print(f\"Rate limit exceeded. Retrying in {wait_time:.2f} seconds.Switching to the next API key...\")\n",
    "                    time.sleep(wait_time)\n",
    "                    API_KEY = next(api_keys)\n",
    "                    client = Groq(api_key=API_KEY)\n",
    "    \n",
    "                # Handling unexpected errors\n",
    "                else:\n",
    "                    print(f\"Unexpected API error: {e}. Skipping sample {i}...\")\n",
    "                    break  # Skip the sample if other errors occur\n",
    "\n",
    "    print(f\"Final results saved to {result_path}\")\n"
   ]
  },
  {
   "cell_type": "code",
   "execution_count": null,
   "id": "8b10e1a7",
   "metadata": {
    "execution": {
     "iopub.execute_input": "2025-04-10T15:43:36.090788Z",
     "iopub.status.busy": "2025-04-10T15:43:36.090548Z",
     "iopub.status.idle": "2025-04-10T17:28:19.885918Z",
     "shell.execute_reply": "2025-04-10T17:28:19.885129Z"
    },
    "papermill": {
     "duration": 6283.799087,
     "end_time": "2025-04-10T17:28:19.887313",
     "exception": false,
     "start_time": "2025-04-10T15:43:36.088226",
     "status": "completed"
    },
    "tags": []
   },
   "outputs": [],
   "source": [
    "query_groq_api(\n",
    "    data_test_path=\"/kaggle/input/docie2025/test_title.json\",\n",
    "    result_path=\"/kaggle/working/final1.json\",\n",
    "    list_of_api_keys=['gsk___']\n",
    ")\n"
   ]
  },
  {
   "cell_type": "code",
   "execution_count": null,
   "id": "8b460f2d",
   "metadata": {
    "papermill": {
     "duration": 0.012174,
     "end_time": "2025-04-10T17:28:19.912344",
     "exception": false,
     "start_time": "2025-04-10T17:28:19.900170",
     "status": "completed"
    },
    "tags": []
   },
   "outputs": [],
   "source": []
  }
 ],
 "metadata": {
  "kaggle": {
   "accelerator": "gpu",
   "dataSources": [
    {
     "databundleVersionId": 11769132,
     "datasetId": 6723681,
     "sourceId": 11342391,
     "sourceType": "datasetVersion"
    }
   ],
   "dockerImageVersionId": 30918,
   "isGpuEnabled": true,
   "isInternetEnabled": true,
   "language": "python",
   "sourceType": "notebook"
  },
  "kernelspec": {
   "display_name": "Python 3",
   "language": "python",
   "name": "python3"
  },
  "language_info": {
   "codemirror_mode": {
    "name": "ipython",
    "version": 3
   },
   "file_extension": ".py",
   "mimetype": "text/x-python",
   "name": "python",
   "nbconvert_exporter": "python",
   "pygments_lexer": "ipython3",
   "version": "3.10.12"
  },
  "papermill": {
   "default_parameters": {},
   "duration": 6292.594724,
   "end_time": "2025-04-10T17:28:20.349883",
   "environment_variables": {},
   "exception": null,
   "input_path": "__notebook__.ipynb",
   "output_path": "__notebook__.ipynb",
   "parameters": {},
   "start_time": "2025-04-10T15:43:27.755159",
   "version": "2.6.0"
  }
 },
 "nbformat": 4,
 "nbformat_minor": 5
}
